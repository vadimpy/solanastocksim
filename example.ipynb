{
 "cells": [
  {
   "cell_type": "code",
   "execution_count": 1,
   "id": "roman-grade",
   "metadata": {},
   "outputs": [],
   "source": [
    "from stock_frontend.faststock import Stock\n",
    "from stock_frontend.safeacc import SafeAccountController as Account\n",
    "from stock_frontend.strats import SimpleStrat\n",
    "\n",
    "from tqdm import tqdm\n",
    "from statistics import mean\n",
    "from time import sleep\n",
    "\n",
    "import matplotlib.pyplot as plt\n",
    "import random"
   ]
  },
  {
   "cell_type": "markdown",
   "id": "blocked-group",
   "metadata": {},
   "source": [
    "# Stock simulation\n",
    "Please, make sure that `solana-test-validator` and `solana logs` are running and `sender` program is deployed.<br>\n",
    "After a simulation we can see prices plot, `stock.log` file has a history of transactions in model, solana logs show logs from Solana's localnet blockchain"
   ]
  },
  {
   "cell_type": "code",
   "execution_count": 2,
   "id": "light-shakespeare",
   "metadata": {
    "scrolled": false
   },
   "outputs": [
    {
     "name": "stderr",
     "output_type": "stream",
     "text": [
      "\r",
      "  0%|          | 0/5 [00:00<?, ?it/s]"
     ]
    },
    {
     "name": "stdout",
     "output_type": "stream",
     "text": [
      "Creating accounts...\n"
     ]
    },
    {
     "name": "stderr",
     "output_type": "stream",
     "text": [
      "100%|██████████| 5/5 [01:11<00:00, 14.24s/it]\n",
      " 10%|█         | 1/10 [00:29<04:25, 29.51s/it]"
     ]
    },
    {
     "name": "stdout",
     "output_type": "stream",
     "text": [
      "Simulation...\n"
     ]
    },
    {
     "name": "stderr",
     "output_type": "stream",
     "text": [
      "100%|██████████| 10/10 [06:40<00:00, 40.06s/it]\n"
     ]
    },
    {
     "data": {
      "image/png": "[encoded data removed]",
      "text/plain": [
       "<Figure size 432x288 with 1 Axes>"
      ]
     },
     "metadata": {
      "needs_background": "light"
     },
     "output_type": "display_data"
    }
   ],
   "source": [
    "random.seed()\n",
    "s = Stock('cfg.yml', 'stock.log')\n",
    "accs_amount = 5\n",
    "\n",
    "print(\"Creating accounts...\")\n",
    "accounts = [Account(s) for _ in tqdm(range(accs_amount))]\n",
    "bots = [SimpleStrat(acc, 2000 + random.randint(-5, 5)) for acc in accounts]\n",
    "iters = 10\n",
    "noise_freq = 2\n",
    "\n",
    "ths = []\n",
    "\n",
    "print(\"Simulation...\")\n",
    "for i in tqdm(range(iters)):\n",
    "    \n",
    "    av_th = mean([bot.threshold for bot in bots])\n",
    "    ths.append(av_th)\n",
    "    \n",
    "    for bot in bots:\n",
    "        if i != 0 and i % noise_freq == 0:\n",
    "             bot.set_threshold(max(2, bot.threshold + random.randint(-100, 105)))\n",
    "\n",
    "        bot.make_decision()\n",
    "        bot.acc.check_balance()\n",
    "\n",
    "    s.dump_accounts_table()\n",
    "    s.dump_order_book()\n",
    "    random.shuffle(bots)\n",
    "\n",
    "prices = s.history\n",
    "plt.plot(prices)\n",
    "plt.show()"
   ]
  },
  {
   "cell_type": "code",
   "execution_count": 5,
   "id": "blessed-geology",
   "metadata": {},
   "outputs": [
    {
     "name": "stderr",
     "output_type": "stream",
     "text": [
      "0it [00:00, ?it/s]"
     ]
    },
    {
     "name": "stdout",
     "output_type": "stream",
     "text": [
      "Waiting...\n",
      "Watch stock.log to see balances from sim and blockchain match\n"
     ]
    },
    {
     "name": "stderr",
     "output_type": "stream",
     "text": [
      "\n"
     ]
    }
   ],
   "source": [
    "s.dump_solana_balances()\n",
    "s.dump_accounts_table()\n",
    "s.__del__()\n",
    "print(\"Watch stock.log to see balances from sim and blockchain match\")"
   ]
  },
  {
   "cell_type": "markdown",
   "id": "exposed-accident",
   "metadata": {},
   "source": [
    "# Examples of programs calls"
   ]
  },
  {
   "cell_type": "code",
   "execution_count": 6,
   "id": "adjusted-radiation",
   "metadata": {},
   "outputs": [],
   "source": [
    "def get_pub(keypair):\n",
    "    return keypair[32:]"
   ]
  },
  {
   "cell_type": "markdown",
   "id": "plain-nigeria",
   "metadata": {},
   "source": [
    "## Send lamports\n",
    "You can change acc1_lamps, acc2_lamps and send_lamps to watch the difference<br>\n",
    "**Make sure sender is deployed!**"
   ]
  },
  {
   "cell_type": "code",
   "execution_count": 7,
   "id": "disciplinary-cannon",
   "metadata": {},
   "outputs": [],
   "source": [
    "from stock_frontend.rust_client import SolanaClient, gen_keypair"
   ]
  },
  {
   "cell_type": "code",
   "execution_count": 8,
   "id": "tamil-framing",
   "metadata": {},
   "outputs": [],
   "source": [
    "cli = SolanaClient('cfg.yml')"
   ]
  },
  {
   "cell_type": "code",
   "execution_count": 9,
   "id": "smoking-atlanta",
   "metadata": {},
   "outputs": [],
   "source": [
    "acc1 = bytes(gen_keypair())\n",
    "acc2 = bytes(gen_keypair())\n",
    "acc1_lamps = 153\n",
    "acc2_lamps = 515\n",
    "send_lamps = 18"
   ]
  },
  {
   "cell_type": "code",
   "execution_count": 10,
   "id": "liked-stress",
   "metadata": {},
   "outputs": [
    {
     "data": {
      "text/plain": [
       "True"
      ]
     },
     "execution_count": 10,
     "metadata": {},
     "output_type": "execute_result"
    }
   ],
   "source": [
    "cli.create_account(acc1, acc1_lamps)"
   ]
  },
  {
   "cell_type": "code",
   "execution_count": 11,
   "id": "indoor-bailey",
   "metadata": {},
   "outputs": [
    {
     "data": {
      "text/plain": [
       "153"
      ]
     },
     "execution_count": 11,
     "metadata": {},
     "output_type": "execute_result"
    }
   ],
   "source": [
    "cli.get_balance(get_pub(acc1))"
   ]
  },
  {
   "cell_type": "code",
   "execution_count": 12,
   "id": "brutal-three",
   "metadata": {},
   "outputs": [
    {
     "data": {
      "text/plain": [
       "True"
      ]
     },
     "execution_count": 12,
     "metadata": {},
     "output_type": "execute_result"
    }
   ],
   "source": [
    "cli.create_account(acc2, acc2_lamps)"
   ]
  },
  {
   "cell_type": "code",
   "execution_count": 13,
   "id": "duplicate-winner",
   "metadata": {},
   "outputs": [
    {
     "data": {
      "text/plain": [
       "515"
      ]
     },
     "execution_count": 13,
     "metadata": {},
     "output_type": "execute_result"
    }
   ],
   "source": [
    "cli.get_balance(get_pub(acc2))"
   ]
  },
  {
   "cell_type": "code",
   "execution_count": 14,
   "id": "boolean-validity",
   "metadata": {},
   "outputs": [
    {
     "data": {
      "text/plain": [
       "True"
      ]
     },
     "execution_count": 14,
     "metadata": {},
     "output_type": "execute_result"
    }
   ],
   "source": [
    "cli.send_lamports(get_pub(acc1), get_pub(acc2), 18)"
   ]
  },
  {
   "cell_type": "code",
   "execution_count": 15,
   "id": "blessed-challenge",
   "metadata": {},
   "outputs": [
    {
     "name": "stdout",
     "output_type": "stream",
     "text": [
      "Acc1 expected: 135\n",
      "Acc2 expected: 533\n"
     ]
    }
   ],
   "source": [
    "print(\"Acc1 expected:\", acc1_lamps - send_lamps)\n",
    "print(\"Acc2 expected:\", acc2_lamps + send_lamps)"
   ]
  },
  {
   "cell_type": "code",
   "execution_count": 16,
   "id": "pregnant-satin",
   "metadata": {
    "scrolled": true
   },
   "outputs": [
    {
     "name": "stdout",
     "output_type": "stream",
     "text": [
      "Acc1: 135\n",
      "Acc2: 533\n",
      "Watch Solana logs!\n"
     ]
    }
   ],
   "source": [
    "print(\"Acc1:\", cli.get_balance(get_pub(acc1)))\n",
    "print(\"Acc2:\", cli.get_balance(get_pub(acc2)))\n",
    "print(\"Watch Solana logs!\")"
   ]
  },
  {
   "cell_type": "markdown",
   "id": "social-panel",
   "metadata": {},
   "source": [
    "## Send message to localnet's logs\n",
    "**Make sure messenger is deployed**"
   ]
  },
  {
   "cell_type": "code",
   "execution_count": 17,
   "id": "behavioral-experiment",
   "metadata": {},
   "outputs": [],
   "source": [
    "message = \"Hello from on-chain distributed runtime!\\nGet ready for something..\\n\""
   ]
  },
  {
   "cell_type": "code",
   "execution_count": 18,
   "id": "spoken-delight",
   "metadata": {},
   "outputs": [
    {
     "name": "stdout",
     "output_type": "stream",
     "text": [
      "Watch logs!\n"
     ]
    }
   ],
   "source": [
    "cli.send_message_to_logs(message)\n",
    "print(\"Watch logs!\")"
   ]
  },
  {
   "cell_type": "markdown",
   "id": "removable-humanitarian",
   "metadata": {},
   "source": [
    "## Accounts as storage\n",
    "**Make sure setter is deployed**"
   ]
  },
  {
   "cell_type": "code",
   "execution_count": 19,
   "id": "abroad-browser",
   "metadata": {},
   "outputs": [
    {
     "data": {
      "text/plain": [
       "True"
      ]
     },
     "execution_count": 19,
     "metadata": {},
     "output_type": "execute_result"
    }
   ],
   "source": [
    "acc3 = bytes(gen_keypair())\n",
    "cli.create_account_with_space(acc3, space=32)"
   ]
  },
  {
   "cell_type": "code",
   "execution_count": 20,
   "id": "curious-conditions",
   "metadata": {},
   "outputs": [
    {
     "data": {
      "text/plain": [
       "True"
      ]
     },
     "execution_count": 20,
     "metadata": {},
     "output_type": "execute_result"
    }
   ],
   "source": [
    "data = b\"Say hi! Stay high! =)\"\n",
    "cli.set_account_data(acc3, data)"
   ]
  },
  {
   "cell_type": "code",
   "execution_count": 21,
   "id": "binding-living",
   "metadata": {},
   "outputs": [
    {
     "data": {
      "text/plain": [
       "'Say hi! Stay high! =)\\x00\\x00\\x00\\x00\\x00\\x00\\x00\\x00\\x00\\x00\\x00'"
      ]
     },
     "execution_count": 21,
     "metadata": {},
     "output_type": "execute_result"
    }
   ],
   "source": [
    "acc_data = bytes(cli.get_account_data(get_pub(acc3)))\n",
    "acc_data.decode(\"ascii\")"
   ]
  },
  {
   "cell_type": "markdown",
   "id": "moving-administrator",
   "metadata": {},
   "source": [
    "# solanastocksim\n",
    "## Fun stock simulator integrated with Solana blockchain\n",
    "\n",
    "### Structure\n",
    "Whole thing consists from several parts:\n",
    " - _faststock.py, strats.py, safeacc.py_ - parts of stock exchange model. They stand for trade simulation\n",
    " - _rust_client_ - wrapper of Solana's RPC client & Python interface for stock model to track transactions on Solana's blockchain\n",
    " - _client.py_ - Python RPC client wrapper with SolanaPy python package, just a python implementation of rust_client (it was created to study API)\n",
    " - _sender, setter, messenger_ - on-chain programs, that are to be deployed on a localnet Solana's blockchain\n",
    "\n",
    "### Run\n",
    "Ready-to-use docker image:<br>\n",
    "\n",
    "First terminal (run localnet Solana blockchain):<br>\n",
    "`$ cd solanastocksim`<br>\n",
    "`$ solana-test-validator -r`<br>\n",
    "\n",
    "Second terminal (listen its logs):<br>\n",
    "`$ cd solanastocksim`<br>\n",
    "`$ solana logs`<br>\n",
    "\n",
    "Third terminal (deploy on-chain programs and run exmaples notebook):<br>\n",
    "`$ cd solanastocksim/stock_backend`<br>\n",
    "`$ ./deploy.sh`<br>\n",
    "`$ source ~/venv/bin/activate`<br>\n",
    "`$ jupyter-notebook`<br>\n",
    "Run example.ipynb cell-by-cell<br>\n",
    "_Be careful! Recommended system requirements for Solana's localnet are 24 logical CPUs and 64GB of memory, on _\n",
    "\n",
    "### Build\n",
    "#### Build client:\n",
    "`$ cd solanastocksim/stock_frontend/rust_client`<br>\n",
    "`$ cargo +nightly build --target-dir ../build`<br>\n",
    "#### Build on-chain programs:\n",
    "`$ cd solanastocksim/stock_backend`<br>\n",
    "`$ cargo build-bpf --bpf-out-dir build`<br>\n",
    "\n",
    "\n",
    "Configure paths in `solanastocksim/cfg.yml`\n",
    "\n"
   ]
  }
 ],
 "metadata": {
  "kernelspec": {
   "display_name": "Python 3",
   "language": "python",
   "name": "python3"
  },
  "language_info": {
   "codemirror_mode": {
    "name": "ipython",
    "version": 3
   },
   "file_extension": ".py",
   "mimetype": "text/x-python",
   "name": "python",
   "nbconvert_exporter": "python",
   "pygments_lexer": "ipython3",
   "version": "3.8.10"
  }
 },
 "nbformat": 4,
 "nbformat_minor": 5
}
